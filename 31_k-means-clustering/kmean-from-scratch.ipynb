{
 "cells": [
  {
   "cell_type": "code",
   "execution_count": 71,
   "id": "0c924580-865d-4d33-bdf3-81a1fb303f86",
   "metadata": {},
   "outputs": [],
   "source": [
    "import random\n",
    "import numpy as np  "
   ]
  },
  {
   "cell_type": "code",
   "execution_count": 73,
   "id": "f8f1db74-582e-4f98-983b-25700a1e383e",
   "metadata": {},
   "outputs": [],
   "source": [
    "class KMeans:\n",
    "    def __init__(self,n_clusters=2,max_iter=100):\n",
    "        self.n_clusters = n_clusters\n",
    "        self.max_iter = max_iter\n",
    "        self.centroids = None\n",
    "\n",
    "    def fit_predict(self,X):\n",
    "\n",
    "        random_index = random.sample(range(0,X.shape[0]),self.n_clusters)\n",
    "        self.centroids = X[random_index]\n",
    "\n",
    "        for i in range(self.max_iter):\n",
    "            # assign clusters\n",
    "            cluster_group = self.assign_clusters(X)\n",
    "            old_centroids = self.centroids\n",
    "            # move centroids\n",
    "            self.centroids = self.move_centroids(X,cluster_group)\n",
    "            # check finish\n",
    "            if (old_centroids == self.centroids).all():\n",
    "                break\n",
    "\n",
    "        return cluster_group\n",
    "\n",
    "   def assign_clusters(self, X):\n",
    "    cluster_group = []\n",
    "\n",
    "    for row in X:\n",
    "        # Compute distances from this point to all centroids\n",
    "        distances = [np.linalg.norm(row - centroid) for centroid in self.centroids]\n",
    "\n",
    "        # Get index of the closest centroid\n",
    "        index_pos = np.argmin(distances)\n",
    "        cluster_group.append(index_pos)\n",
    "\n",
    "    return np.array(cluster_group)\n",
    "\n",
    "\n",
    "    def move_centroids(self,X,cluster_group):\n",
    "        new_centroids = []\n",
    "\n",
    "        cluster_type = np.unique(cluster_group)\n",
    "\n",
    "        for type in cluster_type:\n",
    "            new_centroids.append(X[cluster_group == type]gi.mean(axis=0))\n",
    "\n",
    "        return np.array(new_centroids)\n",
    "\n"
   ]
  },
  {
   "cell_type": "code",
   "execution_count": 68,
   "id": "1ec2df7e-0b49-4841-a983-c0660c10d290",
   "metadata": {},
   "outputs": [],
   "source": []
  },
  {
   "cell_type": "code",
   "execution_count": null,
   "id": "29cf0755-82ee-4421-87dd-5d19d0d167c1",
   "metadata": {},
   "outputs": [],
   "source": []
  },
  {
   "cell_type": "code",
   "execution_count": null,
   "id": "59bea39e-1970-4d78-b9b5-3039e3f31b45",
   "metadata": {},
   "outputs": [],
   "source": []
  }
 ],
 "metadata": {
  "kernelspec": {
   "display_name": "Python [conda env:base] *",
   "language": "python",
   "name": "conda-base-py"
  },
  "language_info": {
   "codemirror_mode": {
    "name": "ipython",
    "version": 3
   },
   "file_extension": ".py",
   "mimetype": "text/x-python",
   "name": "python",
   "nbconvert_exporter": "python",
   "pygments_lexer": "ipython3",
   "version": "3.12.7"
  }
 },
 "nbformat": 4,
 "nbformat_minor": 5
}
