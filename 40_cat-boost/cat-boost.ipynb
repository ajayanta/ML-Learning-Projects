{
 "cells": [
  {
   "cell_type": "code",
   "execution_count": 85,
   "id": "2861627a-dd1b-4743-957d-db88bde0ce8b",
   "metadata": {},
   "outputs": [],
   "source": [
    "import pandas as pd\n",
    "import numpy as np"
   ]
  },
  {
   "cell_type": "code",
   "execution_count": 87,
   "id": "c2ce6474-123c-453f-8435-521e7db38df8",
   "metadata": {},
   "outputs": [],
   "source": [
    "df = pd.read_csv(\"Life Expectancy Data.csv\")"
   ]
  },
  {
   "cell_type": "code",
   "execution_count": 89,
   "id": "ada3c354-c119-469e-a1dd-8a47c079c6b7",
   "metadata": {},
   "outputs": [],
   "source": [
    "df.columns = df.columns.str.strip()"
   ]
  },
  {
   "cell_type": "code",
   "execution_count": 91,
   "id": "fd677b78-092f-4ca2-8024-c061bc97c9c1",
   "metadata": {},
   "outputs": [],
   "source": [
    "df = df.dropna()"
   ]
  },
  {
   "cell_type": "code",
   "execution_count": 93,
   "id": "0a0f0b9c-0655-42f3-9a5d-cc866cdf6c99",
   "metadata": {},
   "outputs": [],
   "source": [
    "X = df.drop(columns=[\"Life expectancy\"])\n",
    "y = df[\"Life expectancy\"]"
   ]
  },
  {
   "cell_type": "code",
   "execution_count": 95,
   "id": "1b1d37e7-79ce-4111-8023-965cab0b7374",
   "metadata": {},
   "outputs": [],
   "source": [
    "from sklearn.model_selection import train_test_split\n",
    "from catboost import CatBoostRegressor, Pool\n",
    "from sklearn.metrics import mean_squared_error"
   ]
  },
  {
   "cell_type": "code",
   "execution_count": 97,
   "id": "5008a740-e23a-4adb-839f-b830ec7558ef",
   "metadata": {},
   "outputs": [],
   "source": [
    "X_train, X_test, y_train, y_test = train_test_split(X, y, test_size=0.2, random_state=42)"
   ]
  },
  {
   "cell_type": "code",
   "execution_count": 99,
   "id": "d8c34b42-9fbc-4b33-a854-fe971b9c3589",
   "metadata": {},
   "outputs": [],
   "source": [
    "cat_features = ['Country', 'Year', 'Status']"
   ]
  },
  {
   "cell_type": "code",
   "execution_count": 101,
   "id": "87512cbb-8b08-4a9c-8824-7fbee3988b2a",
   "metadata": {},
   "outputs": [],
   "source": [
    "pool_train = Pool(data=X_train, label=y_train, cat_features=cat_features)\n",
    "pool_test = Pool(data=X_test, label=y_test, cat_features=cat_features)"
   ]
  },
  {
   "cell_type": "code",
   "execution_count": 111,
   "id": "761f250c-1e17-44f8-ba63-2f2594e0c7ef",
   "metadata": {},
   "outputs": [],
   "source": [
    "model = CatBoostRegressor(\n",
    "    iterations=500,\n",
    "    learning_rate=0.1,\n",
    "    depth=6,\n",
    "    loss_function='RMSE',\n",
    "    verbose=100\n",
    ")"
   ]
  },
  {
   "cell_type": "code",
   "execution_count": 113,
   "id": "d99c9fbd-e5c9-4844-ab4d-02f830e177f5",
   "metadata": {},
   "outputs": [
    {
     "name": "stdout",
     "output_type": "stream",
     "text": [
      "0:\tlearn: 8.1949208\ttotal: 31ms\tremaining: 15.5s\n",
      "100:\tlearn: 1.5183048\ttotal: 3.07s\tremaining: 12.1s\n",
      "200:\tlearn: 1.1254933\ttotal: 6.13s\tremaining: 9.12s\n",
      "300:\tlearn: 0.8726098\ttotal: 9.4s\tremaining: 6.22s\n",
      "400:\tlearn: 0.6934334\ttotal: 12.6s\tremaining: 3.1s\n",
      "499:\tlearn: 0.5578921\ttotal: 15.7s\tremaining: 0us\n"
     ]
    },
    {
     "data": {
      "text/plain": [
       "<catboost.core.CatBoostRegressor at 0x2352de7e7b0>"
      ]
     },
     "execution_count": 113,
     "metadata": {},
     "output_type": "execute_result"
    }
   ],
   "source": [
    "model.fit(pool_train)\n"
   ]
  },
  {
   "cell_type": "code",
   "execution_count": 115,
   "id": "2356cbe9-dbb2-4c7c-8b11-f8bd143d2e78",
   "metadata": {},
   "outputs": [
    {
     "name": "stdout",
     "output_type": "stream",
     "text": [
      "RMSE on test set: 1.88\n"
     ]
    },
    {
     "name": "stderr",
     "output_type": "stream",
     "text": [
      "C:\\Users\\KIIT\\anaconda3\\Lib\\site-packages\\sklearn\\metrics\\_regression.py:492: FutureWarning: 'squared' is deprecated in version 1.4 and will be removed in 1.6. To calculate the root mean squared error, use the function'root_mean_squared_error'.\n",
      "  warnings.warn(\n"
     ]
    }
   ],
   "source": [
    "y_pred = model.predict(pool_test)\n",
    "rmse = mean_squared_error(y_test, y_pred, squared=False)\n",
    "print(f\"RMSE on test set: {rmse:.2f}\")"
   ]
  },
  {
   "cell_type": "code",
   "execution_count": null,
   "id": "d0e78dfe-a102-42b0-a749-1c34f605badf",
   "metadata": {},
   "outputs": [],
   "source": []
  }
 ],
 "metadata": {
  "kernelspec": {
   "display_name": "Python [conda env:base] *",
   "language": "python",
   "name": "conda-base-py"
  },
  "language_info": {
   "codemirror_mode": {
    "name": "ipython",
    "version": 3
   },
   "file_extension": ".py",
   "mimetype": "text/x-python",
   "name": "python",
   "nbconvert_exporter": "python",
   "pygments_lexer": "ipython3",
   "version": "3.12.7"
  }
 },
 "nbformat": 4,
 "nbformat_minor": 5
}
